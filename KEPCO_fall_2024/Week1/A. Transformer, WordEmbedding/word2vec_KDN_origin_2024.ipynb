{
  "cells": [
    {
      "cell_type": "markdown",
      "metadata": {
        "id": "D4ZWcswpzsjZ"
      },
      "source": [
        "# Word2vec using Pytorch\n",
        "\n",
        "This notebook introduces how to implement the NLP technique, so-called word2vec, using Pytorch. The main goal of word2vec is to build a word embedding, i.e a latent and semantic free representation of words in a continuous space. To do so, this approach exploits a shallow neural network with 2 layers. This tutorial explains:\n",
        "1. how to generate the dataset suited for word2vec\n",
        "2. how to build the neural network\n",
        "3. how to speed up the approach"
      ]
    },
    {
      "cell_type": "markdown",
      "metadata": {
        "id": "IgzKQ1fTzsjb"
      },
      "source": [
        "### The data\n",
        "\n",
        "Let's introduce the basic NLP concepts:\n",
        "\n",
        "- *Corpus*: the corpus is the collection of texts that define the data set\n",
        "- *vocabulary*: the set of words in the data set.\n",
        "\n",
        "For the example, we use the news corpus from the Brown dataset, available on nltk. Non letter characters are removed from the string. Also the text is set in lowercase."
      ]
    },
    {
      "cell_type": "code",
      "execution_count": null,
      "metadata": {
        "colab": {
          "base_uri": "https://localhost:8080/"
        },
        "id": "AhIINocjzsjb",
        "outputId": "0afc1e4d-4432-46c1-a804-b7bfecfb9058"
      },
      "outputs": [
        {
          "output_type": "stream",
          "name": "stderr",
          "text": [
            "[nltk_data] Downloading package brown to /root/nltk_data...\n",
            "[nltk_data]   Unzipping corpora/brown.zip.\n"
          ]
        }
      ],
      "source": [
        "import itertools\n",
        "import re\n",
        "import nltk\n",
        "nltk.download('brown')\n",
        "from nltk.corpus import brown\n",
        "\n",
        "corpus = []\n",
        "\n",
        "for cat in ['news']:\n",
        "    for text_id in brown.fileids(cat):\n",
        "        raw_text = list(itertools.chain.from_iterable(brown.sents(text_id)))\n",
        "        text = ' '.join(raw_text)\n",
        "        text = text.lower()\n",
        "        text.replace('\\n', ' ')\n",
        "        text = re.sub('[^a-z ]+', '', text)\n",
        "        corpus.append([w for w in text.split() if w != ''])"
      ]
    },
    {
      "cell_type": "markdown",
      "metadata": {
        "id": "HWfmE36Qzsjc"
      },
      "source": [
        "**Subampling frequent words**\n",
        "\n",
        "The first step in data preprocessing consists in balancing the word occurences in the data. To do so, we perform subsampling of frequent words.\n",
        "Let's call $p_i$ the proportion of word $i$ in the corpus. Then the probability $P(w_i)$ of keeping the word in the corpus is defined as follows:\n",
        "\n",
        "$$\n",
        "P(w_i) = \\dfrac{10^{-3}}{p_i}\\left(\\sqrt{10^3 p_i} + 1\\right)\n",
        "$$"
      ]
    },
    {
      "cell_type": "code",
      "execution_count": null,
      "metadata": {
        "collapsed": true,
        "id": "Epdj-YnAzsjd"
      },
      "outputs": [],
      "source": [
        "from collections import Counter\n",
        "import random, math\n",
        "\n",
        "def subsample_frequent_words(corpus):\n",
        "    filtered_corpus = []\n",
        "    word_counts = dict(Counter(list(itertools.chain.from_iterable(corpus))))\n",
        "    sum_word_counts = sum(list(word_counts.values()))\n",
        "    word_counts = {word: word_counts[word]/float(sum_word_counts) for word in word_counts}\n",
        "    for text in corpus:\n",
        "        filtered_corpus.append([])\n",
        "        for word in text:\n",
        "            if random.random() < (1+math.sqrt(word_counts[word] * 1e3)) * 1e-3 / float(word_counts[word]):\n",
        "                filtered_corpus[-1].append(word)\n",
        "    return filtered_corpus"
      ]
    },
    {
      "cell_type": "code",
      "execution_count": null,
      "metadata": {
        "collapsed": true,
        "id": "uBI6HCzDzsjd"
      },
      "outputs": [],
      "source": [
        "corpus = subsample_frequent_words(corpus)\n",
        "vocabulary = set(itertools.chain.from_iterable(corpus))\n",
        "\n",
        "word_to_index = {w: idx for (idx, w) in enumerate(vocabulary)}\n",
        "index_to_word = {idx: w for (idx, w) in enumerate(vocabulary)}"
      ]
    },
    {
      "cell_type": "code",
      "source": [
        "len(corpus[0]), len(vocabulary)"
      ],
      "metadata": {
        "colab": {
          "base_uri": "https://localhost:8080/"
        },
        "id": "9WOWYkMF0AZ3",
        "outputId": "fe8562c5-e82f-4c68-ddbf-98981644b40d"
      },
      "execution_count": null,
      "outputs": [
        {
          "output_type": "execute_result",
          "data": {
            "text/plain": [
              "(1518, 12132)"
            ]
          },
          "metadata": {},
          "execution_count": 4
        }
      ]
    },
    {
      "cell_type": "markdown",
      "metadata": {
        "id": "sKKU3rANzsjd"
      },
      "source": [
        "**Building bag of words**\n",
        "\n",
        "Word2vec is a bag of words approach. For each word of the data set, we need to extract the context words, i.e the neighboring words in a certain window of fixed length. For example, in the following sentence:\n",
        "\n",
        "*My cat is lazy, it sleeps all day long*\n",
        "\n",
        "If we consider the target word *lazy*, and chose window of size 2, then context words are *cat*, *is*, *it* and *sleeps*."
      ]
    },
    {
      "cell_type": "code",
      "execution_count": null,
      "metadata": {
        "collapsed": true,
        "colab": {
          "base_uri": "https://localhost:8080/"
        },
        "id": "gYNnvI_Fzsjd",
        "outputId": "e2e05e8b-5148-4e31-8d78-82401ba46394"
      },
      "outputs": [
        {
          "output_type": "stream",
          "name": "stdout",
          "text": [
            "There are 474701 pairs of target and context words\n"
          ]
        }
      ],
      "source": [
        "import numpy as np\n",
        "\n",
        "context_tuple_list = []\n",
        "w = 4\n",
        "\n",
        "for text in corpus:\n",
        "    for i, word in enumerate(text):\n",
        "        first_context_word_index = max(0,i-w)\n",
        "        last_context_word_index = min(i+w, len(text))\n",
        "        for j in range(first_context_word_index, last_context_word_index):\n",
        "            if i!=j:\n",
        "                context_tuple_list.append((word, text[j]))\n",
        "print(\"There are {} pairs of target and context words\".format(len(context_tuple_list)))"
      ]
    },
    {
      "cell_type": "markdown",
      "metadata": {
        "id": "2CJIBGcZzsjd"
      },
      "source": [
        "### The network\n",
        "\n",
        "There two approach of word2vec:\n",
        "\n",
        "- CBOW (Continuous Bag Of Words). It predicts the target word conditionally to the context. In other words, context words are the input and the target word is the output.\n",
        "- Skip-gram. It predicts the context conditionally to the target word. In other words, the target word is the input and context words are the output.\n",
        "\n",
        "The following code is suited for CBOW.\n",
        "\n",
        "The vocabulary is represented as a one-hot encoding, meaning that the input variable is a vector of the size of the vocabulary. For a word, this vector has 0 at every position besides the word index in the vocabulary, where value is 1. The hot encoding is mapped to an embedding, i.e a latent representation of the word as a vector containing continuous values and which size is smaller than the one-hot encoding vector.\n",
        "\n",
        "For each context word, a softmax function takes the embedding of the word, yielding a probability distribution of the target word over the vocabulary.\n",
        "\n",
        "<img src=\"https://rguigoures.github.io/images/cbow.png\" alt=\"CBOW\" style=\"width: 600px;\"/>\n"
      ]
    },
    {
      "cell_type": "code",
      "execution_count": null,
      "metadata": {
        "collapsed": true,
        "id": "xEpOx1E8zsje"
      },
      "outputs": [],
      "source": [
        "import torch\n",
        "import torch.nn  as  nn\n",
        "import torch.autograd  as autograd\n",
        "import torch.optim as optim\n",
        "import torch.nn.functional as F\n",
        "\n",
        "\n",
        "class Word2Vec(nn.Module):\n",
        "\n",
        "    def __init__(self, embedding_size, vocab_size):\n",
        "        super(Word2Vec, self).__init__()\n",
        "        self.embeddings = nn.Embedding(vocab_size, embedding_size)\n",
        "        self.linear = nn.Linear(embedding_size, vocab_size)\n",
        "\n",
        "    def forward(self, context_word):\n",
        "        emb = self.embeddings(context_word)\n",
        "        hidden = self.linear(emb)\n",
        "        out = F.log_softmax(hidden)\n",
        "        return out"
      ]
    },
    {
      "cell_type": "markdown",
      "metadata": {
        "id": "wX54F97Nzsje"
      },
      "source": [
        "**Early stopping**\n",
        "\n",
        "Before starting learning, let's introduce the concept of early stopping. It aims at stopping learning when the loss does not decrease significantly (min_percent_gain parameter) anymore after a certain number of iterations (patience parameter). Early stopping is usually used on the validation loss, but in the case of word2vec, there is no validation since the approach is unsupervised. We apply early stopping on training loss instead."
      ]
    },
    {
      "cell_type": "code",
      "execution_count": null,
      "metadata": {
        "collapsed": true,
        "id": "NIu_tslGzsje"
      },
      "outputs": [],
      "source": [
        "class EarlyStopping():\n",
        "    def __init__(self, patience=5, min_percent_gain=0.1):\n",
        "        self.patience = patience\n",
        "        self.loss_list = []\n",
        "        self.min_percent_gain = min_percent_gain / 100.\n",
        "\n",
        "    def update_loss(self, loss):\n",
        "        self.loss_list.append(loss)\n",
        "        if len(self.loss_list) > self.patience:\n",
        "            del self.loss_list[0]\n",
        "\n",
        "    def stop_training(self):\n",
        "        if len(self.loss_list) == 1:\n",
        "            return False\n",
        "        gain = (max(self.loss_list) - min(self.loss_list)) / max(self.loss_list)\n",
        "        print(\"Loss gain: {}%\".format(round(100*gain,2)))\n",
        "        if gain < self.min_percent_gain:\n",
        "            return True\n",
        "        else:\n",
        "            return False"
      ]
    },
    {
      "cell_type": "markdown",
      "metadata": {
        "id": "jhSGotKfzsje"
      },
      "source": [
        "**Learning**\n",
        "\n",
        "For learning, we use cross entropy as a loss function. The neural network in trained with the following parameters:\n",
        "\n",
        "- embedding size: 200\n",
        "- batch size: 2000"
      ]
    },
    {
      "cell_type": "code",
      "execution_count": null,
      "metadata": {
        "collapsed": true,
        "id": "iuCql_lMzsje"
      },
      "outputs": [],
      "source": [
        "from tqdm import tqdm\n",
        "\n",
        "vocabulary_size = len(vocabulary)\n",
        "device='cuda:0'\n",
        "\n",
        "net = Word2Vec(embedding_size=200, vocab_size=vocabulary_size).to(device)\n",
        "loss_function = nn.CrossEntropyLoss()\n",
        "optimizer = optim.Adam(net.parameters())\n",
        "early_stopping = EarlyStopping()\n",
        "context_tensor_list = []\n",
        "\n",
        "for target, context in tqdm(context_tuple_list, desc=\"preparing data\"):\n",
        "    target_tensor = autograd.Variable(torch.LongTensor([word_to_index[target]]).to(device))\n",
        "    context_tensor = autograd.Variable(torch.LongTensor([word_to_index[context]]).to(device))\n",
        "    context_tensor_list.append((target_tensor, context_tensor))\n",
        "\n",
        "while True:\n",
        "    losses = []\n",
        "    for target_tensor, context_tensor in tqdm(context_tensor_list, desc=\"Training: \"):\n",
        "        net.zero_grad()\n",
        "        log_probs = net(context_tensor)\n",
        "        loss = loss_function(log_probs, target_tensor)\n",
        "        loss.backward()\n",
        "        optimizer.step()\n",
        "        losses.append(loss.data)\n",
        "    print(\"Loss: \", np.mean(losses))\n",
        "    early_stopping.update_loss(np.mean(losses))\n",
        "    if early_stopping.stop_training():\n",
        "        break"
      ]
    },
    {
      "cell_type": "markdown",
      "metadata": {
        "id": "1G1W9t4hzsjf"
      },
      "source": [
        "### Speed up the approach\n",
        "\n",
        "The implementation introduced is pretty slow. But good news, there are solutions for speeding up the computation."
      ]
    },
    {
      "cell_type": "markdown",
      "metadata": {
        "id": "dAe3CA72zsjf"
      },
      "source": [
        "**Batch learning**\n",
        "\n",
        "In order to speed up the learning, we propose to use batches. This implies that a bunch of observations are forwarded through the network before doing the backpropagation. Besides being faster, this is also a good way to regularize the parameters of the model."
      ]
    },
    {
      "cell_type": "code",
      "execution_count": null,
      "metadata": {
        "collapsed": true,
        "id": "w3BjG6nYzsjf"
      },
      "outputs": [],
      "source": [
        "import random\n",
        "\n",
        "def get_batches(context_tuple_list, batch_size=100):\n",
        "    random.shuffle(context_tuple_list)\n",
        "    batches = []\n",
        "    batch_target, batch_context, batch_negative = [], [], []\n",
        "    for i in range(len(context_tuple_list)):\n",
        "        batch_target.append(word_to_index[context_tuple_list[i][0]])\n",
        "        batch_context.append(word_to_index[context_tuple_list[i][1]])\n",
        "        batch_negative.append([word_to_index[w] for w in context_tuple_list[i][2]])\n",
        "        if (i+1) % batch_size == 0 or i == len(context_tuple_list)-1:\n",
        "            tensor_target = autograd.Variable(torch.from_numpy(np.array(batch_target)).long())\n",
        "            tensor_context = autograd.Variable(torch.from_numpy(np.array(batch_context)).long())\n",
        "            tensor_negative = autograd.Variable(torch.from_numpy(np.array(batch_negative)).long())\n",
        "            batches.append((tensor_target, tensor_context, tensor_negative))\n",
        "            batch_target, batch_context, batch_negative = [], [], []\n",
        "    return batches"
      ]
    },
    {
      "cell_type": "markdown",
      "metadata": {
        "id": "kI6H5l_Uzsjf"
      },
      "source": [
        "**Negative examples**\n",
        "\n",
        "The default word2vec algorithm exploits only positive examples and the output function is a softmax. However, using a softmax slows down the learning: softmax is normalized over all the vocabulary, then all the weights of the network are updated at each iteration. Consequently we decide using a sigmoid function as an output instead: only the weights involving the target word are updated. But then the network does not learn from negative examples anymore. That's why we need to input artificially generated negative examples.  \n",
        "\n",
        "Once we have built the data for the positive examples, i.e the words in the neighborhood of the target word, we need to build a data set with negative examples. For each word in the corpus, the probability of sampling a negative context word is defined as follows:\n",
        "\n",
        "$$\n",
        "P(w_i) = \\dfrac{\\mid w_i \\mid^{\\frac{3}{4}}}{\\displaystyle\\sum_{j=1}^n\\mid w_j \\mid^{\\frac{3}{4}}}\n",
        "$$"
      ]
    },
    {
      "cell_type": "code",
      "execution_count": null,
      "metadata": {
        "collapsed": true,
        "id": "u-jtVNI9zsjf"
      },
      "outputs": [],
      "source": [
        "from numpy.random import multinomial\n",
        "\n",
        "def sample_negative(sample_size):\n",
        "    sample_probability = {}\n",
        "    word_counts = dict(Counter(list(itertools.chain.from_iterable(corpus))))\n",
        "    normalizing_factor = sum([v**0.75 for v in word_counts.values()])\n",
        "    for word in word_counts:\n",
        "        sample_probability[word] = word_counts[word]**0.75 / normalizing_factor\n",
        "    words = np.array(list(word_counts.keys()))\n",
        "    while True:\n",
        "        word_list = []\n",
        "        sampled_index = np.array(multinomial(sample_size, list(sample_probability.values())))\n",
        "        for index, count in enumerate(sampled_index):\n",
        "            for _ in range(count):\n",
        "                 word_list.append(words[index])\n",
        "        yield word_list"
      ]
    },
    {
      "cell_type": "code",
      "execution_count": null,
      "metadata": {
        "colab": {
          "base_uri": "https://localhost:8080/"
        },
        "id": "GJ8nUfyzzsjf",
        "outputId": "67d82310-bd6e-476e-c193-6fe26566074b"
      },
      "outputs": [
        {
          "output_type": "stream",
          "name": "stderr",
          "text": [
            "100%|██████████| 44/44 [10:18<00:00, 14.07s/it]"
          ]
        },
        {
          "output_type": "stream",
          "name": "stdout",
          "text": [
            "There are 203569 pairs of target and context words\n"
          ]
        },
        {
          "output_type": "stream",
          "name": "stderr",
          "text": [
            "\n"
          ]
        }
      ],
      "source": [
        "import numpy as np\n",
        "\n",
        "context_tuple_list = []\n",
        "w = 2 # 4\n",
        "negative_samples = sample_negative(4) # 8\n",
        "\n",
        "for text in tqdm(corpus):\n",
        "    for i, word in enumerate(text):\n",
        "        first_context_word_index = max(0,i-w)\n",
        "        last_context_word_index = min(i+w, len(text))\n",
        "        for j in range(first_context_word_index, last_context_word_index):\n",
        "            if i!=j:\n",
        "                context_tuple_list.append((word, text[j], next(negative_samples)))\n",
        "print(\"There are {} pairs of target and context words\".format(len(context_tuple_list)))"
      ]
    },
    {
      "cell_type": "markdown",
      "metadata": {
        "id": "2i89bsxrzsjg"
      },
      "source": [
        "**The network**\n",
        "\n",
        "The main difference from the network introduced above lies in the fact that we don't need a probability distribution over words as an output anymore. We can instead have a probability for each word. To get that, we can replace the softmax out output by a sigmoid, taking values between 0 and 1.\n",
        "\n",
        "The other main difference is that the loss needs to be computed on the observe output only, since we provide the expected output as well as a set of negative examples. To do so, we can use a negative logarithm of the output as a loss function.\n",
        "\n",
        "For a target word $w_T$, a context word $w_C$ and a negative example $w_N$, respective embeddings are defined as $e_T$, $e_C$ and $e_N$. The loss function $l$ is defined as follows:\n",
        "\n",
        "$$\n",
        "l = -log(\\sigma(e_T^T e_C)) - \\displaystyle\\sum_i log(\\sigma(- e_T^T e_{N,i}))\n",
        "$$"
      ]
    },
    {
      "cell_type": "code",
      "execution_count": null,
      "metadata": {
        "collapsed": true,
        "id": "i27nuCMgzsjg"
      },
      "outputs": [],
      "source": [
        "import torch\n",
        "import torch.nn as nn\n",
        "import torch.autograd as autograd\n",
        "import torch.optim as optim\n",
        "import torch.nn.functional as F\n",
        "\n",
        "\n",
        "class Word2Vec(nn.Module):\n",
        "\n",
        "    def __init__(self, embedding_size, vocab_size):\n",
        "        super(Word2Vec, self).__init__()\n",
        "        self.embeddings_target = nn.Embedding(vocab_size, embedding_size)\n",
        "        self.embeddings_context = nn.Embedding(vocab_size, embedding_size)\n",
        "\n",
        "    def forward(self, target_word, context_word, negative_example):\n",
        "        emb_target = self.embeddings_target(target_word)\n",
        "        emb_context = self.embeddings_context(context_word)\n",
        "        emb_product = torch.mul(emb_target, emb_context)\n",
        "        emb_product = torch.sum(emb_product, dim=1)\n",
        "        out = torch.sum(F.logsigmoid(emb_product))\n",
        "        emb_negative = self.embeddings_context(negative_example)\n",
        "        emb_product = torch.bmm(emb_negative, emb_target.unsqueeze(2))\n",
        "        emb_product = torch.sum(emb_product, dim=1)\n",
        "        out += torch.sum(F.logsigmoid(-emb_product))\n",
        "        return -out"
      ]
    },
    {
      "cell_type": "markdown",
      "metadata": {
        "id": "t2WrYN2Ozsjg"
      },
      "source": [
        "The neural network in trained with the following parameters:\n",
        "\n",
        "- embedding size: 200\n",
        "- batch size: 2000"
      ]
    },
    {
      "cell_type": "code",
      "execution_count": null,
      "metadata": {
        "id": "ewSCVa-Tzsjg"
      },
      "outputs": [],
      "source": [
        "import time\n",
        "\n",
        "vocabulary_size = len(vocabulary)\n",
        "\n",
        "loss_function = nn.CrossEntropyLoss()\n",
        "net = Word2Vec(embedding_size=200, vocab_size=vocabulary_size)\n",
        "optimizer = optim.Adam(net.parameters())\n",
        "early_stopping = EarlyStopping(patience=5, min_percent_gain=1)\n",
        "\n",
        "while True:\n",
        "    losses = []\n",
        "    context_tuple_batches = get_batches(context_tuple_list, batch_size=2000)\n",
        "    for i in range(len(context_tuple_batches)):\n",
        "        net.zero_grad()\n",
        "        target_tensor, context_tensor, negative_tensor = context_tuple_batches[i]\n",
        "        loss = net(target_tensor, context_tensor, negative_tensor)\n",
        "        loss.backward()\n",
        "        optimizer.step()\n",
        "        losses.append(loss.data)\n",
        "    print(\"Loss: \", np.mean(losses))\n",
        "    early_stopping.update_loss(np.mean(losses))\n",
        "    if early_stopping.stop_training():\n",
        "        break"
      ]
    },
    {
      "cell_type": "markdown",
      "metadata": {
        "id": "928VAVzhzsjg"
      },
      "source": [
        "Once the network trained, we can use the word embedding and compute the similarity between words. The following function computes the top n closest words for a given word. The similarity used is the cosine."
      ]
    },
    {
      "cell_type": "code",
      "execution_count": null,
      "metadata": {
        "collapsed": true,
        "id": "R1xPiawEzsjg"
      },
      "outputs": [],
      "source": [
        "import numpy as np\n",
        "\n",
        "def get_closest_word(word, topn=5):\n",
        "    word_distance = []\n",
        "    emb = net.embeddings_target\n",
        "    pdist = nn.PairwiseDistance()\n",
        "    i = word_to_index[word]\n",
        "    lookup_tensor_i = torch.tensor([i], dtype=torch.long)\n",
        "    v_i = emb(lookup_tensor_i)\n",
        "    for j in range(len(vocabulary)):\n",
        "        if j != i:\n",
        "            lookup_tensor_j = torch.tensor([j], dtype=torch.long)\n",
        "            v_j = emb(lookup_tensor_j)\n",
        "            word_distance.append((index_to_word[j], float(pdist(v_i, v_j))))\n",
        "    word_distance.sort(key=lambda x: x[1])\n",
        "    return word_distance[:topn]"
      ]
    },
    {
      "cell_type": "markdown",
      "source": [
        "# Application Word Embedding"
      ],
      "metadata": {
        "id": "_qAhvA0_JnWh"
      }
    },
    {
      "cell_type": "code",
      "source": [],
      "metadata": {
        "id": "B8Dc8KIZJqFl"
      },
      "execution_count": null,
      "outputs": []
    }
  ],
  "metadata": {
    "kernelspec": {
      "display_name": "Python [conda env:jupyter_env3]",
      "language": "python",
      "name": "conda-env-jupyter_env3-py"
    },
    "language_info": {
      "codemirror_mode": {
        "name": "ipython",
        "version": 3
      },
      "file_extension": ".py",
      "mimetype": "text/x-python",
      "name": "python",
      "nbconvert_exporter": "python",
      "pygments_lexer": "ipython3",
      "version": "3.6.5"
    },
    "colab": {
      "provenance": [],
      "collapsed_sections": [
        "1G1W9t4hzsjf"
      ],
      "gpuType": "T4"
    },
    "accelerator": "GPU"
  },
  "nbformat": 4,
  "nbformat_minor": 0
}