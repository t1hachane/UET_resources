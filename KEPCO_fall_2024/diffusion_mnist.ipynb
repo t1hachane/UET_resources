{
  "cells": [
    {
      "cell_type": "markdown",
      "metadata": {
        "id": "1935f76e"
      },
      "source": [
        "# Diffusion Model for MNIST Data"
      ]
    },
    {
      "cell_type": "code",
      "execution_count": null,
      "metadata": {
        "id": "2317eb61"
      },
      "outputs": [],
      "source": [
        "import numpy as np\n",
        "import matplotlib.pyplot as plt\n",
        "from scipy.linalg import sqrtm\n",
        "\n",
        "import torch\n",
        "import torch.nn as nn\n",
        "import torch.optim as optim\n",
        "from torch.utils.data import DataLoader, TensorDataset\n",
        "import torch.distributions as D\n",
        "\n",
        "import torchvision\n",
        "import torchvision.transforms as transforms\n",
        "\n",
        "import warnings\n",
        "warnings.filterwarnings('ignore')"
      ]
    },
    {
      "cell_type": "code",
      "execution_count": null,
      "metadata": {
        "colab": {
          "base_uri": "https://localhost:8080/"
        },
        "id": "GMtYWTrKsUwW",
        "outputId": "cca96cc8-2a02-45b7-d1f4-1bb83b72a4f8"
      },
      "outputs": [
        {
          "output_type": "execute_result",
          "data": {
            "text/plain": [
              "device(type='cuda', index=0)"
            ]
          },
          "metadata": {},
          "execution_count": 2
        }
      ],
      "source": [
        "# let it use cuda if possible\n",
        "device = torch.device(\"cuda:0\" if torch.cuda.is_available() else \"cpu\")\n",
        "device"
      ]
    },
    {
      "cell_type": "code",
      "execution_count": null,
      "metadata": {
        "id": "VH_HARtH8ok2"
      },
      "outputs": [],
      "source": [
        "T = 200\n",
        "learning_rate = 0.01\n",
        "initial_rho_lr = 0.2\n",
        "batch_size = 64\n",
        "min_beta = 1e-4\n",
        "max_beta = 1e-1"
      ]
    },
    {
      "cell_type": "code",
      "execution_count": null,
      "metadata": {
        "id": "DS4WKNhg-udg",
        "scrolled": true,
        "colab": {
          "base_uri": "https://localhost:8080/"
        },
        "outputId": "c98b7ef7-b0cc-4f5d-e1bf-e98159a4d233"
      },
      "outputs": [
        {
          "output_type": "stream",
          "name": "stdout",
          "text": [
            "Downloading http://yann.lecun.com/exdb/mnist/train-images-idx3-ubyte.gz\n",
            "Failed to download (trying next):\n",
            "<urlopen error [SSL: CERTIFICATE_VERIFY_FAILED] certificate verify failed: certificate has expired (_ssl.c:1007)>\n",
            "\n",
            "Downloading https://ossci-datasets.s3.amazonaws.com/mnist/train-images-idx3-ubyte.gz\n",
            "Downloading https://ossci-datasets.s3.amazonaws.com/mnist/train-images-idx3-ubyte.gz to ./data/MNIST/raw/train-images-idx3-ubyte.gz\n"
          ]
        },
        {
          "output_type": "stream",
          "name": "stderr",
          "text": [
            "100%|██████████| 9912422/9912422 [00:03<00:00, 3141023.24it/s]\n"
          ]
        },
        {
          "output_type": "stream",
          "name": "stdout",
          "text": [
            "Extracting ./data/MNIST/raw/train-images-idx3-ubyte.gz to ./data/MNIST/raw\n",
            "\n",
            "Downloading http://yann.lecun.com/exdb/mnist/train-labels-idx1-ubyte.gz\n",
            "Failed to download (trying next):\n",
            "<urlopen error [SSL: CERTIFICATE_VERIFY_FAILED] certificate verify failed: certificate has expired (_ssl.c:1007)>\n",
            "\n",
            "Downloading https://ossci-datasets.s3.amazonaws.com/mnist/train-labels-idx1-ubyte.gz\n",
            "Downloading https://ossci-datasets.s3.amazonaws.com/mnist/train-labels-idx1-ubyte.gz to ./data/MNIST/raw/train-labels-idx1-ubyte.gz\n"
          ]
        },
        {
          "output_type": "stream",
          "name": "stderr",
          "text": [
            "100%|██████████| 28881/28881 [00:00<00:00, 489646.85it/s]\n"
          ]
        },
        {
          "output_type": "stream",
          "name": "stdout",
          "text": [
            "Extracting ./data/MNIST/raw/train-labels-idx1-ubyte.gz to ./data/MNIST/raw\n",
            "\n",
            "Downloading http://yann.lecun.com/exdb/mnist/t10k-images-idx3-ubyte.gz\n",
            "Failed to download (trying next):\n",
            "<urlopen error [SSL: CERTIFICATE_VERIFY_FAILED] certificate verify failed: certificate has expired (_ssl.c:1007)>\n",
            "\n",
            "Downloading https://ossci-datasets.s3.amazonaws.com/mnist/t10k-images-idx3-ubyte.gz\n",
            "Downloading https://ossci-datasets.s3.amazonaws.com/mnist/t10k-images-idx3-ubyte.gz to ./data/MNIST/raw/t10k-images-idx3-ubyte.gz\n"
          ]
        },
        {
          "output_type": "stream",
          "name": "stderr",
          "text": [
            "100%|██████████| 1648877/1648877 [00:00<00:00, 4428165.65it/s]\n"
          ]
        },
        {
          "output_type": "stream",
          "name": "stdout",
          "text": [
            "Extracting ./data/MNIST/raw/t10k-images-idx3-ubyte.gz to ./data/MNIST/raw\n",
            "\n",
            "Downloading http://yann.lecun.com/exdb/mnist/t10k-labels-idx1-ubyte.gz\n",
            "Failed to download (trying next):\n",
            "<urlopen error [SSL: CERTIFICATE_VERIFY_FAILED] certificate verify failed: certificate has expired (_ssl.c:1007)>\n",
            "\n",
            "Downloading https://ossci-datasets.s3.amazonaws.com/mnist/t10k-labels-idx1-ubyte.gz\n",
            "Downloading https://ossci-datasets.s3.amazonaws.com/mnist/t10k-labels-idx1-ubyte.gz to ./data/MNIST/raw/t10k-labels-idx1-ubyte.gz\n"
          ]
        },
        {
          "output_type": "stream",
          "name": "stderr",
          "text": [
            "100%|██████████| 4542/4542 [00:00<00:00, 9302016.00it/s]"
          ]
        },
        {
          "output_type": "stream",
          "name": "stdout",
          "text": [
            "Extracting ./data/MNIST/raw/t10k-labels-idx1-ubyte.gz to ./data/MNIST/raw\n",
            "\n"
          ]
        },
        {
          "output_type": "stream",
          "name": "stderr",
          "text": [
            "\n"
          ]
        }
      ],
      "source": [
        "# Load MNIST dataset\n",
        "transform = transforms.Compose([transforms.ToTensor(), transforms.Normalize((0.5,), (0.5,))])\n",
        "train_dataset = torchvision.datasets.MNIST(root='./data', train=True, transform=transform, download=True)\n",
        "train_loader = DataLoader(train_dataset, batch_size=batch_size, shuffle=True)"
      ]
    },
    {
      "cell_type": "code",
      "execution_count": null,
      "metadata": {
        "id": "YyQtV7155Nht"
      },
      "outputs": [],
      "source": [
        "class GaussianFourierProjection(nn.Module):\n",
        "# Gaussian random features for encoding time steps.\n",
        "    def __init__(self, embed_dim, scale=30.):\n",
        "        super().__init__()\n",
        "        # Randomly sample weights during initialization. These weights are fixed\n",
        "        # during optimization and are not trainable.\n",
        "        self.W = nn.Parameter(torch.randn(embed_dim // 2) * scale, requires_grad=False)\n",
        "    def forward(self, x):\n",
        "        x_proj = x * self.W * 2 * np.pi\n",
        "        return torch.cat([torch.sin(x_proj), torch.cos(x_proj)], dim=-1)\n",
        "\n",
        "\n",
        "class Dense(nn.Module):\n",
        "# A fully connected layer that reshapes outputs to feature maps.\n",
        "    def __init__(self, input_dim, output_dim):\n",
        "        super().__init__()\n",
        "        self.dense = nn.Linear(input_dim, output_dim)\n",
        "    def forward(self, x):\n",
        "        return self.dense(x)[..., None, None]"
      ]
    },
    {
      "cell_type": "code",
      "execution_count": null,
      "metadata": {
        "id": "8uDJTiYC6NYI"
      },
      "outputs": [],
      "source": [
        "class Diffusion(nn.Module):\n",
        "    def __init__(self, model, n_steps, device, min_beta, max_beta):\n",
        "        super().__init__()\n",
        "        self.model = model\n",
        "        self.n_steps = n_steps\n",
        "        self.device = device\n",
        "        self.min_beta = min_beta\n",
        "        self.max_beta = max_beta\n",
        "\n",
        "        # Initialize beta, alpha, and alpha bar\n",
        "        self.beta = torch.linspace(min_beta, max_beta, n_steps, dtype=torch.float32).to(device)\n",
        "        self.alpha = 1.0 - self.beta\n",
        "        self.alpha_bar = torch.cumprod(self.alpha, axis=0)\n",
        "\n",
        "        self.sqrt_alpha_bar = self.alpha_bar ** 0.5\n",
        "        self.sqrt_one_minus_alpha_bar = (1 - self.alpha_bar) ** 0.5\n",
        "\n",
        "\n",
        "    def predict_next(self, xt, t):\n",
        "        # Compute mu(xt, t)\n",
        "        mu = self.model(xt, t)\n",
        "        return mu"
      ]
    },
    {
      "cell_type": "markdown",
      "metadata": {
        "id": "g5t5HxmxgDpL"
      },
      "source": [
        "## Training"
      ]
    },
    {
      "cell_type": "code",
      "source": [
        "#Example UNet\n",
        "class UNet(nn.Module):\n",
        "    def __init__(self):\n",
        "        super(UNet, self).__init__()\n",
        "        self.encoder = nn.Sequential(\n",
        "            nn.Conv2d(1, 64, kernel_size=3, padding=1),\n",
        "            nn.ReLU(),\n",
        "            nn.Conv2d(64, 128, kernel_size=3, padding=1),\n",
        "            nn.ReLU()\n",
        "        )\n",
        "        self.decoder = nn.Sequential(\n",
        "            nn.ConvTranspose2d(128, 64, kernel_size=3, padding=1),\n",
        "            nn.ReLU(),\n",
        "            nn.ConvTranspose2d(64, 1, kernel_size=3, padding=1),\n",
        "            nn.Tanh()\n",
        "        )\n",
        "\n",
        "    def forward(self, x):\n",
        "        x = self.encoder(x)\n",
        "        x = self.decoder(x)\n",
        "        return x"
      ],
      "metadata": {
        "id": "Fi80FYTmg1SY"
      },
      "execution_count": null,
      "outputs": []
    },
    {
      "cell_type": "code",
      "execution_count": null,
      "metadata": {
        "id": "4_9RWKbA1fMf"
      },
      "outputs": [],
      "source": [
        "class ScoreNet(nn.Module):\n",
        "# A time-dependent score-based model with conditional mean computation.\"\"\"\n",
        "\n",
        "    def __init__(self, channels=[32, 64, 128, 256], embed_dim=256, group_num=4):\n",
        "\n",
        "        super().__init__()\n",
        "\n",
        "        self.embed = nn.Sequential(GaussianFourierProjection(embed_dim=embed_dim),\n",
        "             nn.Linear(embed_dim, embed_dim))\n",
        "\n",
        "        # encoders\n",
        "        self.conv1 = nn.Conv2d(1, channels[0], 3, stride=1, bias=False)\n",
        "        self.dense1 = Dense(embed_dim, channels[0])\n",
        "        self.gnorm1 = nn.GroupNorm(group_num, num_channels=channels[0])\n",
        "        self.conv2 = nn.Conv2d(channels[0], channels[1], 3, stride=2, bias=False)\n",
        "        self.dense2 = Dense(embed_dim, channels[1])\n",
        "        self.gnorm2 = nn.GroupNorm(group_num, num_channels=channels[1])\n",
        "        self.conv3 = nn.Conv2d(channels[1], channels[2], 3, stride=2, bias=False)\n",
        "        self.dense3 = Dense(embed_dim, channels[2])\n",
        "        self.gnorm3 = nn.GroupNorm(group_num, num_channels=channels[2])\n",
        "\n",
        "        # decoders\n",
        "        self.conv4 = nn.Conv2d(channels[2], channels[3], 3, stride=2, bias=False)\n",
        "        self.dense4 = Dense(embed_dim, channels[3])\n",
        "        self.gnorm4 = nn.GroupNorm(group_num, num_channels=channels[3])\n",
        "        self.tconv4 = nn.ConvTranspose2d(channels[3], channels[2], 3, stride=2, bias=False)\n",
        "        self.dense5 = Dense(embed_dim, channels[2])\n",
        "        self.tgnorm4 = nn.GroupNorm(group_num, num_channels=channels[2])\n",
        "        self.tconv3 = nn.ConvTranspose2d(channels[2] + channels[2], channels[1], 3, stride=2, bias=False, output_padding=1)\n",
        "        self.dense6 = Dense(embed_dim, channels[1])\n",
        "        self.tgnorm3 = nn.GroupNorm(group_num, num_channels=channels[1])\n",
        "        self.tconv2 = nn.ConvTranspose2d(channels[1] + channels[1], channels[0], 3, stride=2, bias=False, output_padding=1)\n",
        "        self.dense7 = Dense(embed_dim, channels[0])\n",
        "        self.tgnorm2 = nn.GroupNorm(group_num, num_channels=channels[0])\n",
        "        self.tconv1 = nn.ConvTranspose2d(channels[0] + channels[0], 1, 3, stride=1)\n",
        "\n",
        "        # The swish activation function\n",
        "        self.act = lambda x: x * torch.sigmoid(x)\n",
        "\n",
        "    def forward(self, x, t):\n",
        "        # Obtain the Gaussian random feature embedding for t\n",
        "        embed = self.act(self.embed(t))\n",
        "\n",
        "        #--encoder\n",
        "        h1 = self.conv1(x)\n",
        "        h1 += self.dense1(embed)\n",
        "        h1 = self.gnorm1(h1)\n",
        "        h1 = self.act(h1)\n",
        "\n",
        "\n",
        "        h2 = self.conv2(h1)\n",
        "        h2 += self.dense2(embed)\n",
        "        h2 = self.gnorm2(h2)\n",
        "        h2 = self.act(h2)\n",
        "\n",
        "\n",
        "        h3 = self.conv3(h2)\n",
        "        h3 += self.dense3(embed)\n",
        "        h3 = self.gnorm3(h3)\n",
        "        h3 = self.act(h3)\n",
        "\n",
        "\n",
        "        h4 = self.conv4(h3)\n",
        "        h4 += self.dense4(embed)\n",
        "        h4 = self.gnorm4(h4)\n",
        "        h4 = self.act(h4)\n",
        "\n",
        "\n",
        "        #--decoder\n",
        "        h = self.tconv4(h4)\n",
        "        h += self.dense5(embed)\n",
        "        h = self.tgnorm4(h)\n",
        "        h = self.act(h)\n",
        "\n",
        "        h = self.tconv3(torch.cat([h, h3], dim=1))\n",
        "        h += self.dense6(embed)\n",
        "        h = self.tgnorm3(h)\n",
        "        h = self.act(h)\n",
        "\n",
        "        h = self.tconv2(torch.cat([h, h2], dim=1))\n",
        "        h += self.dense7(embed)\n",
        "        h = self.tgnorm2(h)\n",
        "        h = self.act(h)\n",
        "\n",
        "        h = self.tconv1(torch.cat([h, h1], dim=1))\n",
        "\n",
        "        return h"
      ]
    },
    {
      "cell_type": "code",
      "execution_count": null,
      "metadata": {
        "id": "7169nsgTXz5e"
      },
      "outputs": [],
      "source": [
        "def loss_function_epsilon(diffusion, X_batch, device):\n",
        "    batch_size = len(X_batch)\n",
        "    n_steps = diffusion.n_steps\n",
        "\n",
        "    # Draw random time steps for all examples in the batch using exponential distribution\n",
        "    exponential_dist = D.Exponential(torch.tensor([0.03]))\n",
        "    t_batch = exponential_dist.sample((batch_size, 1)).long().to(device).view(-1,1)\n",
        "    t_batch = torch.clamp(t_batch, 0, n_steps-1)\n",
        "\n",
        "    # Draw random vector j from N(0,I)\n",
        "    noisej = torch.randn(X_batch.shape, device=device)\n",
        "\n",
        "    # Produce Xtj\n",
        "    xtj = diffusion.alpha_bar[t_batch].view(-1, 1, 1, 1) * X_batch + diffusion.sqrt_one_minus_alpha_bar[t_batch].view(-1, 1, 1, 1) * noisej\n",
        "\n",
        "\n",
        "    # Run through the model\n",
        "    e = diffusion.predict_next(xtj, t_batch)\n",
        "\n",
        "    # Calculate loss\n",
        "    loss = torch.sum((noisej - e) ** 2) / batch_size\n",
        "\n",
        "    return loss"
      ]
    },
    {
      "cell_type": "code",
      "execution_count": null,
      "metadata": {
        "id": "Yek9e_HeZYWS"
      },
      "outputs": [],
      "source": [
        "score_net = ScoreNet().to(device)\n",
        "diffusion = Diffusion(score_net, T, device, min_beta, max_beta).to(device)"
      ]
    },
    {
      "cell_type": "code",
      "execution_count": null,
      "metadata": {
        "id": "ADxABuuTZYWS"
      },
      "outputs": [],
      "source": [
        "optimizer = optim.Adam([\n",
        "    {'params': list(score_net.parameters()), 'lr': learning_rate},\n",
        "])\n",
        "\n",
        "scheduler = optim.lr_scheduler.StepLR(optimizer, step_size=20, gamma=0.1)"
      ]
    },
    {
      "cell_type": "code",
      "execution_count": null,
      "metadata": {
        "colab": {
          "base_uri": "https://localhost:8080/"
        },
        "id": "tFHoub_vZYWT",
        "outputId": "d23d93da-3864-43bb-f407-903e2942a213"
      },
      "outputs": [
        {
          "output_type": "stream",
          "name": "stdout",
          "text": [
            "Epoch 1/5, Train Loss: 381.79659, Valid Loss: 226.96795\n",
            "Epoch 2/5, Train Loss: 167.94311, Valid Loss: 122.43967\n",
            "Epoch 3/5, Train Loss: 190.99344, Valid Loss: 206.06020\n",
            "Epoch 4/5, Train Loss: 168.66915, Valid Loss: 148.03105\n",
            "Epoch 5/5, Train Loss: 135.61121, Valid Loss: 130.72820\n"
          ]
        }
      ],
      "source": [
        "num_epochs = 5\n",
        "\n",
        "for epoch in range(num_epochs):\n",
        "    score_net.train()\n",
        "\n",
        "    train_loss = 0.0\n",
        "    for batch_idx, (X_batch, target) in enumerate(train_loader):\n",
        "        X_batch = X_batch.to(device)\n",
        "\n",
        "        loss = loss_function_epsilon(diffusion, X_batch, device)\n",
        "        optimizer.zero_grad()\n",
        "        loss.backward()\n",
        "        optimizer.step()\n",
        "\n",
        "        train_loss += loss.item() * X_batch.size(0)\n",
        "\n",
        "\n",
        "    train_loss /= len(train_loader.dataset)\n",
        "\n",
        "    # Validate the model\n",
        "    score_net.eval()\n",
        "\n",
        "    valid_loss = 0.0\n",
        "    with torch.no_grad():\n",
        "        for X_batch, _ in train_loader:\n",
        "            X_batch = X_batch.to(device)\n",
        "\n",
        "            loss = loss_function_epsilon(diffusion, X_batch, device)\n",
        "            valid_loss += loss.item() * X_batch.size(0)\n",
        "\n",
        "    valid_loss /= len(train_loader.dataset)\n",
        "\n",
        "    print(f'Epoch {epoch+1}/{num_epochs}, Train Loss: {train_loss:.5f}, Valid Loss: {valid_loss:.5f}')\n",
        "\n",
        "    scheduler.step()"
      ]
    },
    {
      "cell_type": "code",
      "execution_count": null,
      "metadata": {
        "id": "rUsmtyxDqMa9"
      },
      "outputs": [],
      "source": [
        "def sample_from_model_2(score_net, diffusion, device, sample_size=1):\n",
        "    with torch.no_grad():\n",
        "        x_sample = torch.randn((sample_size, 1, 28, 28), device=device)\n",
        "\n",
        "        for t in range(diffusion.n_steps - 1, 0, -1):\n",
        "            noise = diffusion.predict_next(x_sample, t)\n",
        "            mean = (x_sample - (1-diffusion.alpha[t])*noise / (diffusion.sqrt_one_minus_alpha_bar[t])) / torch.sqrt(diffusion.alpha[t])\n",
        "            z = torch.randn((sample_size, 1, 28, 28), device=device)\n",
        "            x_sample = mean + (1.0 - diffusion.alpha[t]) ** 0.5 * z\n",
        "\n",
        "    return x_sample"
      ]
    },
    {
      "cell_type": "code",
      "execution_count": null,
      "metadata": {
        "colab": {
          "base_uri": "https://localhost:8080/",
          "height": 773
        },
        "id": "2tNG8yG5pZvP",
        "outputId": "5d56703a-a82b-46c4-9ab2-242535d96f08"
      },
      "outputs": [
        {
          "output_type": "display_data",
          "data": {
            "text/plain": [
              "<Figure size 1000x1000 with 20 Axes>"
            ],
            "image/png": "[encoded data removed]"
          },
          "metadata": {}
        }
      ],
      "source": [
        "sampled_images_2 = sample_from_model_2(score_net, diffusion, device, sample_size=100)\n",
        "\n",
        "fig, axes = plt.subplots(4, 5, figsize=(10, 10))\n",
        "for i, ax in enumerate(axes.flat):\n",
        "    ax.imshow(sampled_images_2.cpu().detach().numpy()[i, 0], cmap='gray')\n",
        "    ax.axis('off')\n",
        "plt.show()"
      ]
    },
    {
      "cell_type": "code",
      "execution_count": null,
      "metadata": {
        "id": "Tmi7a81Ml78x"
      },
      "outputs": [],
      "source": [
        "# save model\n",
        "torch.save(score_net.state_dict(), './score_net.pt')\n",
        "torch.save(diffusion.state_dict(), './diffusion.pt')"
      ]
    },
    {
      "cell_type": "code",
      "execution_count": null,
      "metadata": {
        "colab": {
          "base_uri": "https://localhost:8080/"
        },
        "id": "tcttxPP8l78y",
        "outputId": "1156a311-98b0-48b5-c3e2-f9de3cb049ba"
      },
      "outputs": [
        {
          "output_type": "execute_result",
          "data": {
            "text/plain": [
              "<All keys matched successfully>"
            ]
          },
          "metadata": {},
          "execution_count": 17
        }
      ],
      "source": [
        "# load pretrained model\n",
        "score_net = ScoreNet().to(device)\n",
        "score_net.load_state_dict(torch.load('./score_net.pt'))\n",
        "diffusion = Diffusion(score_net, T, device, min_beta, max_beta).to(device)\n",
        "diffusion.load_state_dict(torch.load('./diffusion.pt'))"
      ]
    },
    {
      "cell_type": "markdown",
      "metadata": {
        "id": "JSMMCATEgDpP"
      },
      "source": [
        "## Evalutaion"
      ]
    },
    {
      "cell_type": "code",
      "execution_count": null,
      "metadata": {
        "id": "WdLL8UdFgDpP"
      },
      "outputs": [],
      "source": [
        "def calculate_fid_score(real_samples, generated_samples, eps=1e-4):\n",
        "    real_samples = real_samples.cpu().detach().numpy()\n",
        "    generated_samples = generated_samples.cpu().detach().numpy()\n",
        "\n",
        "    mu_real = np.mean(real_samples, axis=0)\n",
        "    mu_generated = np.mean(generated_samples, axis=0)\n",
        "\n",
        "    cov_real = np.cov(real_samples[0][0], rowvar=False)\n",
        "    cov_generated = np.cov(generated_samples[0][0], rowvar=False)\n",
        "\n",
        "    # Add a small epsilon to the diagonal of covariance matrices to ensure they are positive definite\n",
        "    cov_real += np.eye(cov_real.shape[0]) * eps\n",
        "    cov_generated += np.eye(cov_generated.shape[0]) * eps\n",
        "\n",
        "    mean_diff = mu_real - mu_generated\n",
        "    mean_diff_squared = np.sum(mean_diff ** 2)\n",
        "\n",
        "    cov_sqrt = np.sqrt(np.dot(cov_real, cov_generated))\n",
        "\n",
        "    # If there are NaNs in the result, add a larger epsilon and recompute\n",
        "    if np.isnan(cov_sqrt).any():\n",
        "        cov_real += np.eye(cov_real.shape[0]) * 10 * eps\n",
        "        cov_generated += np.eye(cov_generated.shape[0]) * 10 * eps\n",
        "        cov_sqrt = np.sqrt(np.dot(cov_real, cov_generated))\n",
        "\n",
        "    fid = mean_diff_squared + np.trace(cov_real) + np.trace(cov_generated) - 2 * np.trace(cov_sqrt)\n",
        "    return fid"
      ]
    },
    {
      "cell_type": "code",
      "execution_count": null,
      "metadata": {
        "colab": {
          "base_uri": "https://localhost:8080/"
        },
        "id": "ozMnnBmrgDpP",
        "outputId": "dbba6067-a94d-4c51-bb06-090580afeb37"
      },
      "outputs": [
        {
          "output_type": "execute_result",
          "data": {
            "text/plain": [
              "nan"
            ]
          },
          "metadata": {},
          "execution_count": 19
        }
      ],
      "source": [
        "real_images = []\n",
        "for batch, _ in train_loader:\n",
        "    real_images.append(batch)\n",
        "real_images = torch.cat(real_images)[1500:1600]\n",
        "\n",
        "calculate_fid_score(real_images, sampled_images_2, eps=1e-5)"
      ]
    }
  ],
  "metadata": {
    "accelerator": "GPU",
    "colab": {
      "gpuType": "T4",
      "provenance": []
    },
    "kernelspec": {
      "display_name": "Python 3 (ipykernel)",
      "language": "python",
      "name": "python3"
    },
    "language_info": {
      "codemirror_mode": {
        "name": "ipython",
        "version": 3
      },
      "file_extension": ".py",
      "mimetype": "text/x-python",
      "name": "python",
      "nbconvert_exporter": "python",
      "pygments_lexer": "ipython3",
      "version": "3.7.16"
    }
  },
  "nbformat": 4,
  "nbformat_minor": 0
}