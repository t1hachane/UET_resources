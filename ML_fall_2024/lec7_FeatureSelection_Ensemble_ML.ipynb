{
  "nbformat": 4,
  "nbformat_minor": 0,
  "metadata": {
    "colab": {
      "provenance": [],
      "toc_visible": true
    },
    "kernelspec": {
      "name": "python3",
      "display_name": "Python 3"
    },
    "language_info": {
      "name": "python"
    }
  },
  "cells": [
    {
      "cell_type": "markdown",
      "source": [
        "#Feature Selection"
      ],
      "metadata": {
        "id": "yo3OdhY7gdO6"
      }
    },
    {
      "cell_type": "code",
      "source": [
        "from sklearn.datasets import load_breast_cancer\n",
        "from sklearn.model_selection import train_test_split\n",
        "from sklearn.linear_model import LogisticRegression\n",
        "from sklearn.metrics import accuracy_score\n",
        "\n",
        "# Load tập dữ liệu \"Breast Cancer Wisconsin\"\n",
        "data = load_breast_cancer()\n",
        "X = data.data\n",
        "y = data.target\n",
        "print('X', X.shape)\n",
        "print('y', y.shape)\n",
        "\n",
        "# Chia tập dữ liệu thành tập huấn luyện và tập kiểm tra\n",
        "X_train, X_test, y_train, y_test = train_test_split(X, y, test_size=0.2, random_state=42)\n",
        "\n",
        "# Tạo mô hình hồi quy logistic và huấn luyện trên tập huấn luyện (overfitting)\n",
        "model_overfit = LogisticRegression(max_iter=10000)\n",
        "model_overfit.fit(X_train, y_train)\n",
        "\n",
        "# Đánh giá mô hình trên tập kiểm tra\n",
        "y_pred = model_overfit.predict(X_test)\n",
        "accuracy_overfit = accuracy_score(y_test, y_pred)\n",
        "print(\"Accuracy trên tập test:\", accuracy_overfit)"
      ],
      "metadata": {
        "colab": {
          "base_uri": "https://localhost:8080/"
        },
        "id": "D6hnYXJ7giP9",
        "outputId": "27952dac-6066-4cf6-bb7a-479fe10dae3e"
      },
      "execution_count": null,
      "outputs": [
        {
          "output_type": "stream",
          "name": "stdout",
          "text": [
            "X (569, 30)\n",
            "y (569,)\n",
            "Accuracy trên tập test: 0.956140350877193\n"
          ]
        }
      ]
    },
    {
      "cell_type": "code",
      "source": [
        "from sklearn.feature_selection import SelectKBest, f_classif\n",
        "\n",
        "# Sử dụng SelectKBest để chọn ra 10 đặc trưng tốt nhất\n",
        "k_best = SelectKBest(score_func=f_classif, k=10)\n",
        "X_train_selected = k_best.fit_transform(X_train, y_train)\n",
        "X_test_selected = k_best.transform(X_test)\n",
        "\n",
        "# Tạo và huấn luyện mô hình hồi quy logistic trên tập dữ liệu đã được chọn đặc trưng\n",
        "model_selected = LogisticRegression(max_iter=10000)\n",
        "model_selected.fit(X_train_selected, y_train)\n",
        "\n",
        "# Đánh giá mô hình đã chọn đặc trưng trên tập kiểm tra\n",
        "y_pred_selected = model_selected.predict(X_test_selected)\n",
        "accuracy_selected = accuracy_score(y_test, y_pred_selected)\n",
        "print(\"Accuracy trên tập test (mô hình đã chọn đặc trưng):\", accuracy_selected)"
      ],
      "metadata": {
        "colab": {
          "base_uri": "https://localhost:8080/"
        },
        "id": "1zueznI0gj_6",
        "outputId": "ac7bd91a-1185-4673-fa83-b44f4f42f71a"
      },
      "execution_count": null,
      "outputs": [
        {
          "output_type": "stream",
          "name": "stdout",
          "text": [
            "Accuracy trên tập kiểm tra (mô hình đã chọn đặc trưng): 0.9912280701754386\n"
          ]
        }
      ]
    },
    {
      "cell_type": "markdown",
      "source": [
        "## Using Chi-square"
      ],
      "metadata": {
        "id": "ALgfYMFek_oY"
      }
    },
    {
      "cell_type": "markdown",
      "source": [
        "![Chi-Square](https://cdn1.byjus.com/wp-content/uploads/2020/10/Chi-Square-Test.png)"
      ],
      "metadata": {
        "id": "16Xcok_bpy6Q"
      }
    },
    {
      "cell_type": "code",
      "source": [
        "import numpy as np\n",
        "from scipy.stats import chi2_contingency\n",
        "# Tạo một danh sách để lưu giá trị Chi-square cho từng đặc trưng\n",
        "chi_square_values = []\n",
        "\n",
        "# Tính toán giá trị Chi-square cho từng đặc trưng\n",
        "for feature_idx in range(X.shape[1]):\n",
        "    observed_values = np.column_stack((X[:, feature_idx], y))\n",
        "    chi2, _, _, _ = chi2_contingency(observed_values)\n",
        "    chi_square_values.append(chi2)\n",
        "\n",
        "# Sắp xếp các đặc trưng theo giá trị Chi-square giảm dần\n",
        "sorted_feature_indices = np.argsort(chi_square_values)[::-1]\n",
        "\n",
        "# Chọn ra một số lượng đặc trưng cần giữ lại (ví dụ: 2 đặc trưng)\n",
        "num_selected_features = 10\n",
        "selected_feature_indices = sorted_feature_indices[:num_selected_features]\n",
        "\n",
        "# In ra danh sách các đặc trưng đã chọn\n",
        "selected_feature_names = np.array(data.feature_names)[selected_feature_indices]\n",
        "selected_feature_names.sort()\n",
        "print(\"Các đặc trưng đã chọn:\")\n",
        "print(selected_feature_names)\n",
        "\n",
        "\n",
        "# Training\n",
        "X_train_selected = X_train[:, selected_feature_indices]\n",
        "X_test_selected = X_test[:, selected_feature_indices]\n",
        "\n",
        "model_selected = LogisticRegression(max_iter=10000)\n",
        "model_selected.fit(X_train_selected, y_train)\n",
        "\n",
        "y_pred_selected = model_selected.predict(X_test_selected)\n",
        "accuracy_selected = accuracy_score(y_test, y_pred_selected)\n",
        "print(\"Accuracy trên tập kiểm tra (mô hình đã chọn đặc trưng):\", accuracy_selected)"
      ],
      "metadata": {
        "colab": {
          "base_uri": "https://localhost:8080/"
        },
        "id": "Iio_cJ07kTSJ",
        "outputId": "41346533-d56b-460b-bb7b-185716c7a099"
      },
      "execution_count": null,
      "outputs": [
        {
          "output_type": "stream",
          "name": "stdout",
          "text": [
            "Các đặc trưng đã chọn:\n",
            "['area error' 'mean area' 'mean perimeter' 'mean radius' 'perimeter error'\n",
            " 'worst area' 'worst concavity' 'worst perimeter' 'worst radius'\n",
            " 'worst texture']\n",
            "Accuracy trên tập kiểm tra (mô hình đã chọn đặc trưng): 0.9649122807017544\n"
          ]
        }
      ]
    },
    {
      "cell_type": "markdown",
      "source": [
        "## Using F-score (F-value)"
      ],
      "metadata": {
        "id": "BjICLVVzreMK"
      }
    },
    {
      "cell_type": "code",
      "source": [
        "import numpy as np\n",
        "from sklearn.datasets import load_breast_cancer\n",
        "from scipy.stats import f_oneway\n",
        "\n",
        "# Load tập dữ liệu \"Breast Cancer Wisconsin\"\n",
        "data = load_breast_cancer()\n",
        "X = data.data  # Ma trận đặc trưng\n",
        "y = data.target  # Biến mục tiêu\n",
        "\n",
        "# Chia dữ liệu thành hai lớp tương ứng với biến mục tiêu (lớp 0 và lớp 1)\n",
        "X_class0 = X[y == 0]\n",
        "X_class1 = X[y == 1]\n",
        "\n",
        "# Tính toán giá trị F-score cho từng đặc trưng\n",
        "num_features = X.shape[1]\n",
        "f_scores = np.zeros(num_features)\n",
        "\n",
        "for feature_idx in range(num_features):\n",
        "    f_score, _ = f_oneway(X_class0[:, feature_idx], X_class1[:, feature_idx])\n",
        "    f_scores[feature_idx] = f_score\n",
        "\n",
        "# Sắp xếp các đặc trưng theo thứ tự giảm dần của F-score\n",
        "sorted_feature_indices = np.argsort(f_scores)[::-1]\n",
        "\n",
        "# Chọn ra một số lượng đặc trưng cần giữ lại (ví dụ: 10 đặc trưng)\n",
        "num_selected_features = 10\n",
        "selected_feature_indices = sorted_feature_indices[:num_selected_features]\n",
        "\n",
        "# Tạo một ma trận mới chỉ chứa các đặc trưng đã chọn\n",
        "X_selected = X[:, selected_feature_indices]\n",
        "\n",
        "# In ra danh sách các đặc trưng đã chọn\n",
        "selected_feature_names = data.feature_names[selected_feature_indices]\n",
        "selected_feature_names.sort()\n",
        "print(\"Các đặc trưng đã chọn:\")\n",
        "print(selected_feature_names)\n",
        "\n",
        "\n",
        "# Training\n",
        "X_train_selected = X_train[:, selected_feature_indices]\n",
        "X_test_selected = X_test[:, selected_feature_indices]\n",
        "\n",
        "model_selected = LogisticRegression(max_iter=10000)\n",
        "model_selected.fit(X_train_selected, y_train)\n",
        "\n",
        "y_pred_selected = model_selected.predict(X_test_selected)\n",
        "accuracy_selected = accuracy_score(y_test, y_pred_selected)\n",
        "print(\"Accuracy trên tập kiểm tra (mô hình đã chọn đặc trưng):\", accuracy_selected)"
      ],
      "metadata": {
        "colab": {
          "base_uri": "https://localhost:8080/"
        },
        "id": "yn58k0nymiYo",
        "outputId": "ebb8d389-9cc7-42bc-e652-b2b8519fa341"
      },
      "execution_count": null,
      "outputs": [
        {
          "output_type": "stream",
          "name": "stdout",
          "text": [
            "Các đặc trưng đã chọn:\n",
            "['mean area' 'mean concave points' 'mean concavity' 'mean perimeter'\n",
            " 'mean radius' 'worst area' 'worst concave points' 'worst concavity'\n",
            " 'worst perimeter' 'worst radius']\n",
            "Accuracy trên tập kiểm tra (mô hình đã chọn đặc trưng): 0.9912280701754386\n"
          ]
        }
      ]
    },
    {
      "cell_type": "markdown",
      "source": [
        "# Ensemble"
      ],
      "metadata": {
        "id": "cOZdl4KcgVRJ"
      }
    },
    {
      "cell_type": "markdown",
      "source": [
        "## Library and data"
      ],
      "metadata": {
        "id": "jKX9tVNtLl46"
      }
    },
    {
      "cell_type": "code",
      "source": [
        "import numpy as np\n",
        "from sklearn.datasets import load_iris, load_breast_cancer\n",
        "from sklearn.model_selection import train_test_split\n",
        "from sklearn.tree import DecisionTreeClassifier\n",
        "from sklearn.neighbors import KNeighborsClassifier\n",
        "from sklearn.ensemble import RandomForestClassifier\n",
        "from sklearn.linear_model import LogisticRegression\n",
        "from sklearn.metrics import accuracy_score\n",
        "\n",
        "# Load bộ dữ liệu breast_cancer\n",
        "data = load_breast_cancer()\n",
        "X = data.data  # Ma trận đặc trưng\n",
        "y = data.target  # Biến mục tiêu\n",
        "\n",
        "# Chia dữ liệu thành tập huấn luyện và tập kiểm tra\n",
        "X_train, X_test, y_train, y_test = train_test_split(X, y, test_size=0.2, random_state=42)"
      ],
      "metadata": {
        "id": "4b9i9kLhLnxi"
      },
      "execution_count": null,
      "outputs": []
    },
    {
      "cell_type": "code",
      "source": [
        "# Tạo mô hình Decision Tree Classifier\n",
        "model = DecisionTreeClassifier(max_depth=1, random_state=42)\n",
        "\n",
        "# Huấn luyện mô hình trên tập huấn luyện\n",
        "model.fit(X_train, y_train)\n",
        "\n",
        "# Dự đoán trên tập kiểm tra\n",
        "y_pred = model.predict(X_test)\n",
        "\n",
        "# Đánh giá mô hình sử dụng accuracy score\n",
        "accuracy = accuracy_score(y_test, y_pred)\n",
        "print(\"Accuracy trên tập kiểm tra:\", accuracy)\n"
      ],
      "metadata": {
        "colab": {
          "base_uri": "https://localhost:8080/"
        },
        "id": "hOqHPOW9RLSx",
        "outputId": "9cd36a69-d883-4db1-c6bd-414610553d27"
      },
      "execution_count": null,
      "outputs": [
        {
          "output_type": "stream",
          "name": "stdout",
          "text": [
            "Accuracy trên tập kiểm tra: 0.8947368421052632\n"
          ]
        }
      ]
    },
    {
      "cell_type": "markdown",
      "source": [
        "![Bagging&Boosting](https://cdn.educba.com/academy/wp-content/uploads/2019/11/bagging-and-boosting.png)"
      ],
      "metadata": {
        "id": "lYDq9DZOr_dH"
      }
    },
    {
      "cell_type": "markdown",
      "source": [
        "## Bagging Ensemble"
      ],
      "metadata": {
        "id": "pi0oCvBWLWkM"
      }
    },
    {
      "cell_type": "code",
      "execution_count": null,
      "metadata": {
        "colab": {
          "base_uri": "https://localhost:8080/"
        },
        "id": "EVeOo_p6Kb-j",
        "outputId": "d015fb58-cb9d-449c-bca3-156a8a94b0b1"
      },
      "outputs": [
        {
          "output_type": "stream",
          "name": "stdout",
          "text": [
            "Độ chính xác của mô hình Bagging (KNN): 0.95\n"
          ]
        }
      ],
      "source": [
        "# Số lượng mô hình (KNN) trong ensemble và số lượng mẫu con trong mỗi bootstrap sample\n",
        "n_estimators = 100\n",
        "bootstrap_samples = 50\n",
        "\n",
        "# Khởi tạo danh sách các mô hình KNN yếu\n",
        "weak_models = []\n",
        "\n",
        "# Huấn luyện các mô hình KNN yếu và thêm vào danh sách\n",
        "for _ in range(n_estimators):\n",
        "    # Lấy ngẫu nhiên mẫu con từ tập huấn luyện dựa trên bootstrap sampling\n",
        "    bootstrap_indices = np.random.choice(X_train.shape[0], bootstrap_samples, replace=True)\n",
        "    X_bootstrap = X_train[bootstrap_indices]\n",
        "    y_bootstrap = y_train[bootstrap_indices]\n",
        "\n",
        "    # Huấn luyện mô hình KNN yếu\n",
        "    knn = KNeighborsClassifier(n_neighbors=3)  # Chọn số lân cận (neighbors) tùy chọn\n",
        "    knn.fit(X_bootstrap, y_bootstrap)\n",
        "    weak_models.append(knn)\n",
        "\n",
        "# Dự đoán trên tập kiểm tra bằng cách bầu cử đa số\n",
        "predictions = np.zeros((X_test.shape[0], n_estimators))\n",
        "for i, knn in enumerate(weak_models):\n",
        "    predictions[:, i] = knn.predict(X_test)\n",
        "\n",
        "# Bầu cử đa số để chọn lớp cuối cùng\n",
        "ensemble_predictions = np.round(np.mean(predictions, axis=1))\n",
        "\n",
        "# Đánh giá mô hình bằng độ chính xác\n",
        "accuracy = accuracy_score(y_test, ensemble_predictions)\n",
        "print(f\"Độ chính xác của mô hình Bagging (KNN): {accuracy:.2f}\")\n"
      ]
    },
    {
      "cell_type": "markdown",
      "source": [
        "## Boosting Ensemble"
      ],
      "metadata": {
        "id": "pcuTxtiFLeg7"
      }
    },
    {
      "cell_type": "code",
      "source": [
        "# Số lượng cây trong ensemble (đây là hyperparameter của AdaBoost)\n",
        "num_estimators = 50\n",
        "\n",
        "# Tạo một mảng để lưu trữ các cây quyết định\n",
        "estimators = []\n",
        "\n",
        "# Khởi tạo một mảng để lưu trữ trọng số của từng cây\n",
        "weights = np.ones(len(X_train)) / len(X_train)\n",
        "\n",
        "for _ in range(num_estimators):\n",
        "    # Tạo mô hình cây quyết định dựa trên dữ liệu và trọng số hiện tại\n",
        "    tree = DecisionTreeClassifier(max_depth=1)\n",
        "    tree.fit(X_train, y_train, sample_weight=weights)\n",
        "\n",
        "    # Dự đoán trên tập huấn luyện\n",
        "    y_pred = tree.predict(X_train)\n",
        "\n",
        "    # Tính lỗi\n",
        "    error = np.sum(weights * (y_pred != y_train)) / np.sum(weights)\n",
        "\n",
        "    # Tính trọng số mới cho cây\n",
        "    tree_weight = 0.5 * np.log((1 - error) / error)\n",
        "\n",
        "    # Cập nhật trọng số\n",
        "    weights = weights * np.exp(-tree_weight * y_train * y_pred)\n",
        "\n",
        "    # Chuẩn hóa trọng số\n",
        "    weights /= np.sum(weights)\n",
        "\n",
        "    # Lưu cây và trọng số vào ensemble\n",
        "    estimators.append((tree, tree_weight))\n",
        "\n",
        "# Dự đoán trên tập kiểm tra\n",
        "y_pred_ensemble = np.zeros_like(y_test, dtype=float)\n",
        "for tree, tree_weight in estimators:\n",
        "    y_pred_tree = tree.predict(X_test)\n",
        "    y_pred_ensemble += tree_weight * y_pred_tree\n",
        "\n",
        "# Tính toán kết quả dự đoán của ensemble\n",
        "y_pred_ensemble = np.sign(y_pred_ensemble)\n",
        "\n",
        "# Đánh giá mô hình sử dụng accuracy score\n",
        "accuracy = accuracy_score(y_test, y_pred_ensemble)\n",
        "print(\"Độ chính xác của mô hình Boosting (KNN)\", accuracy)"
      ],
      "metadata": {
        "colab": {
          "base_uri": "https://localhost:8080/"
        },
        "id": "1DprlcigLgAN",
        "outputId": "d944ca95-a93c-4c6b-e246-f4e4aed850ad"
      },
      "execution_count": null,
      "outputs": [
        {
          "output_type": "stream",
          "name": "stdout",
          "text": [
            "Độ chính xác của mô hình Boosting (KNN) 0.9210526315789473\n"
          ]
        }
      ]
    },
    {
      "cell_type": "markdown",
      "source": [
        "## Stacking Ensemble"
      ],
      "metadata": {
        "id": "KC6gqxg3MQl4"
      }
    },
    {
      "cell_type": "code",
      "source": [
        "# Các mô hình cơ sở (base models)\n",
        "rf_model = RandomForestClassifier(n_estimators=100, random_state=42)\n",
        "knn_model = KNeighborsClassifier(n_neighbors=3)\n",
        "lr_model = LogisticRegression()\n",
        "\n",
        "# Huấn luyện các mô hình cơ sở trên tập huấn luyện\n",
        "rf_model.fit(X_train, y_train)\n",
        "knn_model.fit(X_train, y_train)\n",
        "lr_model.fit(X_train, y_train)\n",
        "\n",
        "# Dự đoán trên tập kiểm tra bằng các mô hình cơ sở\n",
        "rf_pred = rf_model.predict(X_test)\n",
        "knn_pred = knn_model.predict(X_test)\n",
        "lr_pred = lr_model.predict(X_test)\n",
        "\n",
        "# Tạo ma trận dự đoán từ các mô hình cơ sở\n",
        "stacked_predictions = np.column_stack((rf_pred, knn_pred, lr_pred))\n",
        "\n",
        "# Mô hình tổ hợp (meta-learner) - Ở đây chúng ta sử dụng Logistic Regression\n",
        "meta_learner = LogisticRegression()\n",
        "meta_learner.fit(stacked_predictions, y_test)\n",
        "\n",
        "# Dự đoán cuối cùng bằng cách sử dụng mô hình tổ hợp\n",
        "stacked_predictions_test = np.column_stack((rf_model.predict(X_test), knn_model.predict(X_test), lr_model.predict(X_test)))\n",
        "final_predictions = meta_learner.predict(stacked_predictions_test)\n",
        "\n",
        "# Đánh giá mô hình tổ hợp bằng độ chính xác\n",
        "accuracy = accuracy_score(y_test, final_predictions)\n",
        "print(f\"Độ chính xác của mô hình Stacking Ensemble: {accuracy:.2f}\")\n"
      ],
      "metadata": {
        "colab": {
          "base_uri": "https://localhost:8080/"
        },
        "id": "bFlfa6iGMSfh",
        "outputId": "919cadac-06ed-4ec3-d784-077afe0c1e86"
      },
      "execution_count": null,
      "outputs": [
        {
          "output_type": "stream",
          "name": "stdout",
          "text": [
            "Độ chính xác của mô hình Stacking Ensemble: 0.96\n"
          ]
        },
        {
          "output_type": "stream",
          "name": "stderr",
          "text": [
            "/usr/local/lib/python3.10/dist-packages/sklearn/linear_model/_logistic.py:458: ConvergenceWarning: lbfgs failed to converge (status=1):\n",
            "STOP: TOTAL NO. of ITERATIONS REACHED LIMIT.\n",
            "\n",
            "Increase the number of iterations (max_iter) or scale the data as shown in:\n",
            "    https://scikit-learn.org/stable/modules/preprocessing.html\n",
            "Please also refer to the documentation for alternative solver options:\n",
            "    https://scikit-learn.org/stable/modules/linear_model.html#logistic-regression\n",
            "  n_iter_i = _check_optimize_result(\n"
          ]
        }
      ]
    }
  ]
}